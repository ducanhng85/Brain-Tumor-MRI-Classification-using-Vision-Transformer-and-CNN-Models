{
 "cells": [
  {
   "cell_type": "markdown",
   "id": "8be3fc1a-1633-473a-9522-6699330a5efa",
   "metadata": {},
   "source": [
    "# Brain Tumor Classification"
   ]
  },
  {
   "cell_type": "code",
   "execution_count": 2,
   "id": "b8336284-2746-4ffe-8a4e-1876abe69128",
   "metadata": {},
   "outputs": [
    {
     "name": "stdout",
     "output_type": "stream",
     "text": [
      "True\n"
     ]
    }
   ],
   "source": [
    "import torch\n",
    "print(torch.cuda.is_available())"
   ]
  },
  {
   "cell_type": "code",
   "execution_count": 3,
   "id": "770dbde7-ac1c-43a7-bbe9-01911e6ce7c4",
   "metadata": {
    "scrolled": true
   },
   "outputs": [
    {
     "name": "stdout",
     "output_type": "stream",
     "text": [
      "Number of GPU:  1\n",
      "GPU Name:  NVIDIA GeForce GTX 1660 Ti\n",
      "Using device: cuda\n"
     ]
    }
   ],
   "source": [
    "import torch\n",
    "\n",
    "print(\"Number of GPU: \", torch.cuda.device_count())\n",
    "print(\"GPU Name: \", torch.cuda.get_device_name())\n",
    "\n",
    "\n",
    "device = torch.device('cuda' if torch.cuda.is_available() else 'cpu')\n",
    "print('Using device:', device)"
   ]
  },
  {
   "cell_type": "markdown",
   "id": "092d5f79-1588-4212-85e8-c662235b294d",
   "metadata": {},
   "source": [
    "## Loading the Dataset"
   ]
  },
  {
   "cell_type": "code",
   "execution_count": 5,
   "id": "6a0b198b-f868-4060-92c3-fb5000d87cab",
   "metadata": {},
   "outputs": [],
   "source": [
    "# Loading the dataset\n",
    "from torchvision import datasets, transforms\n",
    "\n",
    "transform = transforms.Compose([\n",
    "    transforms.Resize((224, 224)),\n",
    "    transforms.ToTensor()\n",
    "])\n",
    "\n",
    "train_dataset = datasets.ImageFolder(root=\"/Training\", transform=transform)\n",
    "test_dataset = datasets.ImageFolder(root=\"/Testing\", transform=transform)"
   ]
  },
  {
   "cell_type": "code",
   "execution_count": 6,
   "id": "a1c378fd-7959-463a-bfbf-0486470b29c8",
   "metadata": {},
   "outputs": [
    {
     "data": {
      "text/plain": [
       "Dataset ImageFolder\n",
       "    Number of datapoints: 2870\n",
       "    Root location: /Training\n",
       "    StandardTransform\n",
       "Transform: Compose(\n",
       "               Resize(size=(224, 224), interpolation=bilinear, max_size=None, antialias=True)\n",
       "               ToTensor()\n",
       "           )"
      ]
     },
     "execution_count": 6,
     "metadata": {},
     "output_type": "execute_result"
    }
   ],
   "source": [
    "train_dataset"
   ]
  },
  {
   "cell_type": "code",
   "execution_count": 7,
   "id": "3cc10ede-0cef-4484-80f7-54b065bf6ecd",
   "metadata": {
    "scrolled": true
   },
   "outputs": [
    {
     "data": {
      "text/plain": [
       "['glioma_tumor', 'meningioma_tumor', 'no_tumor', 'pituitary_tumor']"
      ]
     },
     "execution_count": 7,
     "metadata": {},
     "output_type": "execute_result"
    }
   ],
   "source": [
    "train_dataset.classes"
   ]
  },
  {
   "cell_type": "code",
   "execution_count": 8,
   "id": "99ff2962-12e2-4b00-aabe-bf71900263ec",
   "metadata": {},
   "outputs": [],
   "source": [
    "# Image Processing\n",
    "from transformers import ViTImageProcessor\n",
    "processor = ViTImageProcessor.from_pretrained(\"google/vit-base-patch16-224-in21k\")\n",
    "\n",
    "# Note: I used a different model in some of my local tests google/vit-base-patch16-224\n",
    "# Not sure what sort of affect this could have had"
   ]
  },
  {
   "cell_type": "code",
   "execution_count": 9,
   "id": "eea259e4-ae12-4c72-be68-2ec4327d4c58",
   "metadata": {},
   "outputs": [
    {
     "data": {
      "text/plain": [
       "Dataset ImageFolder\n",
       "    Number of datapoints: 2870\n",
       "    Root location: /Training\n",
       "    StandardTransform\n",
       "Transform: Compose(\n",
       "               Resize(size=(224, 224), interpolation=bilinear, max_size=None, antialias=True)\n",
       "               ToTensor()\n",
       "           )"
      ]
     },
     "execution_count": 9,
     "metadata": {},
     "output_type": "execute_result"
    }
   ],
   "source": [
    "train_dataset"
   ]
  },
  {
   "cell_type": "markdown",
   "id": "d3c5878a-d957-4b7a-a2b5-c89057c5c7f8",
   "metadata": {},
   "source": [
    "## Model Initialization"
   ]
  },
  {
   "cell_type": "code",
   "execution_count": 23,
   "id": "43e24e84-87d9-4771-a5e7-1a40012bfa87",
   "metadata": {},
   "outputs": [
    {
     "name": "stderr",
     "output_type": "stream",
     "text": [
      "Fast image processor class <class 'transformers.models.vit.image_processing_vit_fast.ViTImageProcessorFast'> is available for this model. Using slow image processor class. To use the fast image processor class set `use_fast=True`.\n",
      "Some weights of ViTForImageClassification were not initialized from the model checkpoint at google/vit-base-patch16-224-in21k and are newly initialized: ['classifier.bias', 'classifier.weight']\n",
      "You should probably TRAIN this model on a down-stream task to be able to use it for predictions and inference.\n"
     ]
    }
   ],
   "source": [
    "from transformers import AutoImageProcessor, AutoModelForImageClassification\n",
    "from torch.utils.data import DataLoader\n",
    "\n",
    "checkpoint = \"google/vit-base-patch16-224-in21k\"\n",
    "\n",
    "image_processor = AutoImageProcessor.from_pretrained(checkpoint)\n",
    "\n",
    "train_dataloader = DataLoader(train_dataset, batch_size=32, shuffle=True,num_workers=2, pin_memory=True)\n",
    "test_dataloader = DataLoader(test_dataset, batch_size=32, shuffle=True,num_workers=2, pin_memory=True)\n",
    "\n",
    "model = AutoModelForImageClassification.from_pretrained(checkpoint, num_labels = 4) "
   ]
  },
  {
   "cell_type": "code",
   "execution_count": 25,
   "id": "8cded91a-8feb-4f9c-8434-724f2e80e6a3",
   "metadata": {},
   "outputs": [],
   "source": [
    "# Set custom class names for predictions\n",
    "model.config.id2label = {\n",
    "    0: \"glioma_tumor\",\n",
    "    1: \"meningioma_tumor\",\n",
    "    2: \"no_tumor\",\n",
    "    3: \"pituitary_tumor\"\n",
    "}\n",
    "model.config.label2id = {v: k for k, v in model.config.id2label.items()}"
   ]
  },
  {
   "cell_type": "markdown",
   "id": "0fd7ff83-80a1-432a-928b-80c0c8cee2f9",
   "metadata": {},
   "source": [
    "## Fine Tuning"
   ]
  },
  {
   "cell_type": "code",
   "execution_count": 27,
   "id": "946f70b7-8014-4387-9b92-27006fcc8738",
   "metadata": {},
   "outputs": [],
   "source": [
    "import torch\n",
    "\n",
    "# def collate_fn(batch):\n",
    "#     return {\n",
    "#         'pixel_values': torch.stack([\n",
    "#             torch.tensor(x['pixel_values']) if not isinstance(x['pixel_values'], torch.Tensor) else x['pixel_values']\n",
    "#             for x in batch\n",
    "#         ]),\n",
    "#         'labels': torch.tensor([x['label'] for x in batch])\n",
    "#     }\n",
    "\n",
    "def collate_fn(batch):\n",
    "    images, labels = zip(*batch)  # unzip list of tuples\n",
    "    return {\n",
    "        'pixel_values': torch.stack(images),\n",
    "        'labels': torch.tensor(labels)\n",
    "    }\n",
    "\n",
    "from sklearn.metrics import accuracy_score\n",
    "\n",
    "def compute_metrics(p):\n",
    "    preds, labels = p\n",
    "    preds = preds.argmax(axis=-1)\n",
    "    accuracy = accuracy_score(labels, preds)\n",
    "    return {\"accuracy\": accuracy}\n"
   ]
  },
  {
   "cell_type": "code",
   "execution_count": 28,
   "id": "5f3b9902-cea5-4859-b595-7268a9470e35",
   "metadata": {},
   "outputs": [
    {
     "name": "stdout",
     "output_type": "stream",
     "text": [
      "WARNING:tensorflow:From C:\\Users\\User\\anaconda3\\Lib\\site-packages\\tf_keras\\src\\losses.py:2976: The name tf.losses.sparse_softmax_cross_entropy is deprecated. Please use tf.compat.v1.losses.sparse_softmax_cross_entropy instead.\n",
      "\n"
     ]
    }
   ],
   "source": [
    "from transformers import Trainer, TrainingArguments\n",
    "from transformers import EarlyStoppingCallback\n",
    "\n",
    "training_args = TrainingArguments(\n",
    "\toutput_dir = \"./results\",\n",
    "  eval_strategy = \"epoch\",\n",
    "  #report_to= None,\n",
    "  per_device_train_batch_size=16,\n",
    "  per_device_eval_batch_size=16,\n",
    "  num_train_epochs=10,\n",
    "  label_names=['labels'],\n",
    "  learning_rate=5e-5,\n",
    "  logging_steps = 100,\n",
    "  metric_for_best_model=\"accuracy\",\n",
    "  weight_decay=0.01,\n",
    ")\n",
    "\n",
    "trainer = Trainer(\n",
    "    model = model,\n",
    "    args = training_args,\n",
    "    train_dataset = train_dataset,\n",
    "    eval_dataset = test_dataset,\n",
    "    compute_metrics=compute_metrics,\n",
    "    data_collator=collate_fn\n",
    ")"
   ]
  },
  {
   "cell_type": "code",
   "execution_count": 29,
   "id": "4d00d3a8-0f5e-47da-9a9a-b70eb1609fc5",
   "metadata": {},
   "outputs": [
    {
     "data": {
      "text/html": [
       "\n",
       "    <div>\n",
       "      \n",
       "      <progress value='1800' max='1800' style='width:300px; height:20px; vertical-align: middle;'></progress>\n",
       "      [1800/1800 22:37, Epoch 10/10]\n",
       "    </div>\n",
       "    <table border=\"1\" class=\"dataframe\">\n",
       "  <thead>\n",
       " <tr style=\"text-align: left;\">\n",
       "      <th>Epoch</th>\n",
       "      <th>Training Loss</th>\n",
       "      <th>Validation Loss</th>\n",
       "      <th>Accuracy</th>\n",
       "    </tr>\n",
       "  </thead>\n",
       "  <tbody>\n",
       "    <tr>\n",
       "      <td>1</td>\n",
       "      <td>0.670300</td>\n",
       "      <td>0.888559</td>\n",
       "      <td>0.710660</td>\n",
       "    </tr>\n",
       "    <tr>\n",
       "      <td>2</td>\n",
       "      <td>0.145500</td>\n",
       "      <td>0.681241</td>\n",
       "      <td>0.814721</td>\n",
       "    </tr>\n",
       "    <tr>\n",
       "      <td>3</td>\n",
       "      <td>0.052100</td>\n",
       "      <td>1.092898</td>\n",
       "      <td>0.771574</td>\n",
       "    </tr>\n",
       "    <tr>\n",
       "      <td>4</td>\n",
       "      <td>0.022900</td>\n",
       "      <td>1.135136</td>\n",
       "      <td>0.781726</td>\n",
       "    </tr>\n",
       "    <tr>\n",
       "      <td>5</td>\n",
       "      <td>0.013400</td>\n",
       "      <td>1.237525</td>\n",
       "      <td>0.763959</td>\n",
       "    </tr>\n",
       "    <tr>\n",
       "      <td>6</td>\n",
       "      <td>0.016700</td>\n",
       "      <td>1.230515</td>\n",
       "      <td>0.766497</td>\n",
       "    </tr>\n",
       "    <tr>\n",
       "      <td>7</td>\n",
       "      <td>0.007100</td>\n",
       "      <td>1.212171</td>\n",
       "      <td>0.784264</td>\n",
       "    </tr>\n",
       "    <tr>\n",
       "      <td>8</td>\n",
       "      <td>0.006000</td>\n",
       "      <td>1.243962</td>\n",
       "      <td>0.784264</td>\n",
       "    </tr>\n",
       "    <tr>\n",
       "      <td>9</td>\n",
       "      <td>0.005400</td>\n",
       "      <td>1.261659</td>\n",
       "      <td>0.784264</td>\n",
       "    </tr>\n",
       "    <tr>\n",
       "      <td>10</td>\n",
       "      <td>0.005200</td>\n",
       "      <td>1.267122</td>\n",
       "      <td>0.784264</td>\n",
       "    </tr>\n",
       "  </tbody>\n",
       "</table><p>"
      ],
      "text/plain": [
       "<IPython.core.display.HTML object>"
      ]
     },
     "metadata": {},
     "output_type": "display_data"
    }
   ],
   "source": [
    "train_output = trainer.train()"
   ]
  },
  {
   "cell_type": "code",
   "execution_count": 30,
   "id": "523fba1a-ce7b-4de0-8b92-c4f017368807",
   "metadata": {},
   "outputs": [
    {
     "data": {
      "text/html": [],
      "text/plain": [
       "<IPython.core.display.HTML object>"
      ]
     },
     "metadata": {},
     "output_type": "display_data"
    },
    {
     "data": {
      "text/plain": [
       "{'eval_loss': 1.2671220302581787,\n",
       " 'eval_accuracy': 0.7842639593908629,\n",
       " 'eval_runtime': 7.7564,\n",
       " 'eval_samples_per_second': 50.797,\n",
       " 'eval_steps_per_second': 3.223,\n",
       " 'epoch': 10.0}"
      ]
     },
     "execution_count": 30,
     "metadata": {},
     "output_type": "execute_result"
    }
   ],
   "source": [
    "trainer.evaluate()"
   ]
  },
  {
   "cell_type": "code",
   "execution_count": 31,
   "id": "8c051f9b-632f-40df-bc7a-e10553d4e442",
   "metadata": {},
   "outputs": [],
   "source": [
    "metrics = trainer.state.log_history"
   ]
  },
  {
   "cell_type": "code",
   "execution_count": 32,
   "id": "62d64f96-5c1f-46a7-ad0f-f9e9cedab2d6",
   "metadata": {},
   "outputs": [
    {
     "data": {
      "image/png": "[encoded data removed]",
      "text/plain": [
       "<Figure size 1000x400 with 2 Axes>"
      ]
     },
     "metadata": {},
     "output_type": "display_data"
    }
   ],
   "source": [
    "import pandas as pd\n",
    "import matplotlib.pyplot as plt\n",
    "\n",
    "# Convert log history to DataFrame\n",
    "log_df = pd.DataFrame(trainer.state.log_history)\n",
    "\n",
    "# Plot training and validation loss\n",
    "plt.figure(figsize=(10, 4))\n",
    "plt.subplot(1, 2, 1)\n",
    "plt.plot(log_df[\"epoch\"][log_df[\"loss\"].notna()], log_df[\"loss\"].dropna(), label=\"Train Loss\")\n",
    "plt.plot(log_df[\"epoch\"][log_df[\"eval_loss\"].notna()], log_df[\"eval_loss\"].dropna(), label=\"Val Loss\")\n",
    "plt.xlabel(\"Epoch\")\n",
    "plt.ylabel(\"Loss\")\n",
    "plt.title(\"Loss per Epoch\")\n",
    "plt.legend()\n",
    "\n",
    "# Plot training and validation accuracy\n",
    "plt.subplot(1, 2, 2)\n",
    "if \"eval_accuracy\" in log_df.columns:\n",
    "    plt.plot(log_df[\"epoch\"][log_df[\"eval_accuracy\"].notna()], log_df[\"eval_accuracy\"].dropna(), label=\"Val Accuracy\")\n",
    "    plt.xlabel(\"Epoch\")\n",
    "    plt.ylabel(\"Accuracy\")\n",
    "    plt.title(\"Validation Accuracy per Epoch\")\n",
    "    plt.legend()\n",
    "\n",
    "plt.tight_layout()\n",
    "plt.show()"
   ]
  },
  {
   "cell_type": "code",
   "execution_count": 33,
   "id": "82f6504b-a343-43f6-a550-3b1d8638765d",
   "metadata": {},
   "outputs": [],
   "source": [
    "preds = trainer.predict(test_dataset)\n",
    "\n",
    "import numpy as np\n",
    "\n",
    "y_preds = np.argmax(preds.predictions, axis=1)\n",
    "y_true = preds.label_ids"
   ]
  },
  {
   "cell_type": "code",
   "execution_count": 37,
   "id": "f4c97ea3-972c-4a13-8fa0-dfe7e48b2a30",
   "metadata": {},
   "outputs": [
    {
     "data": {
      "text/plain": [
       "Dataset ImageFolder\n",
       "    Number of datapoints: 394\n",
       "    Root location: /Testing\n",
       "    StandardTransform\n",
       "Transform: Compose(\n",
       "               Resize(size=(224, 224), interpolation=bilinear, max_size=None, antialias=True)\n",
       "               ToTensor()\n",
       "           )"
      ]
     },
     "execution_count": 37,
     "metadata": {},
     "output_type": "execute_result"
    }
   ],
   "source": [
    "test_dataset"
   ]
  },
  {
   "cell_type": "code",
   "execution_count": 39,
   "id": "0aca6d46-153b-4690-8072-2728ff438367",
   "metadata": {},
   "outputs": [
    {
     "name": "stdout",
     "output_type": "stream",
     "text": [
      "                  precision    recall  f1-score   support\n",
      "\n",
      "    glioma_tumor       1.00      0.23      0.37       100\n",
      "meningioma_tumor       0.71      1.00      0.83       115\n",
      "        no_tumor       0.74      1.00      0.85       105\n",
      " pituitary_tumor       0.96      0.89      0.92        74\n",
      "\n",
      "        accuracy                           0.78       394\n",
      "       macro avg       0.85      0.78      0.75       394\n",
      "    weighted avg       0.84      0.78      0.74       394\n",
      "\n"
     ]
    }
   ],
   "source": [
    "from sklearn.metrics import classification_report\n",
    "\n",
    "label_names = [\"glioma_tumor\",\"meningioma_tumor\",\"no_tumor\",\"pituitary_tumor\"]\n",
    "\n",
    "print(classification_report(y_true, y_preds, target_names=label_names))"
   ]
  },
  {
   "cell_type": "code",
   "execution_count": 41,
   "id": "e7036cb7-12cf-472e-a96b-dcc44750b231",
   "metadata": {},
   "outputs": [],
   "source": [
    "def params_log(\n",
    "    trainer,\n",
    "    train_output,\n",
    "    training_args,\n",
    "    unfreeze_from_layer = None,\n",
    "    extra_info=None  # Optional dictionary for custom stuff\n",
    "):\n",
    "    metrics = trainer.evaluate()\n",
    "\n",
    "    results_log = {\n",
    "        \"Train loss\": train_output.training_loss,\n",
    "        \"Eval loss\": metrics.get(\"eval_loss\"),\n",
    "        \"Eval accuracy\": metrics.get(\"eval_accuracy\"),\n",
    "        \"Learning rate\": training_args.learning_rate,\n",
    "        \"Weight decay\": training_args.weight_decay,\n",
    "        \"Num epochs\": trainer.state.epoch,\n",
    "        \"Batch size\": training_args.per_device_train_batch_size,\n",
    "        \"Unfreeze from Layer\": unfreeze_from_layer,\n",
    "        \"Extra Info\": extra_info,\n",
    "    }\n",
    "    \n",
    "    return results_log"
   ]
  },
  {
   "cell_type": "code",
   "execution_count": 43,
   "id": "364dc69c-ae6f-49d0-bb4b-67e040bba7e2",
   "metadata": {},
   "outputs": [],
   "source": [
    "from tabulate import tabulate\n",
    "\n",
    "def params_log(\n",
    "    trainer,\n",
    "    train_output,\n",
    "    training_args,\n",
    "    unfreeze_from_layer=None, # Optional for if using freeze\n",
    "    extra_info=None  # Optional dictionary for custom stuff\n",
    "):\n",
    "    metrics = trainer.evaluate()\n",
    "\n",
    "    results_log = {\n",
    "        \"Train loss\": train_output.training_loss,\n",
    "        \"Eval loss\": metrics.get(\"eval_loss\"),\n",
    "        \"Eval accuracy\": metrics.get(\"eval_accuracy\"),\n",
    "        \"Learning rate\": training_args.learning_rate,\n",
    "        \"Weight decay\": training_args.weight_decay,\n",
    "        \"Num epochs\": trainer.state.epoch,\n",
    "        \"Batch size\": training_args.per_device_train_batch_size,\n",
    "        \"Unfreeze from Layer\": unfreeze_from_layer,\n",
    "        \"Extra Info\": extra_info,\n",
    "    }\n",
    "\n",
    "    print(tabulate(results_log.items(), headers=[\"Parameter\", \"Value\"], tablefmt=\"github\"))\n",
    "    return results_log\n"
   ]
  },
  {
   "cell_type": "code",
   "execution_count": 45,
   "id": "1a4546f1-f957-4431-9429-e7e19423ac2d",
   "metadata": {},
   "outputs": [
    {
     "data": {
      "text/plain": [
       "5e-05"
      ]
     },
     "execution_count": 45,
     "metadata": {},
     "output_type": "execute_result"
    }
   ],
   "source": [
    "training_args.learning_rate"
   ]
  },
  {
   "cell_type": "code",
   "execution_count": 47,
   "id": "585cd6b3-19a3-40a0-9e20-61181a5cfa03",
   "metadata": {},
   "outputs": [
    {
     "data": {
      "text/html": [
       "\n",
       "    <div>\n",
       "      \n",
       "      <progress value='25' max='25' style='width:300px; height:20px; vertical-align: middle;'></progress>\n",
       "      [25/25 00:06]\n",
       "    </div>\n",
       "    "
      ],
      "text/plain": [
       "<IPython.core.display.HTML object>"
      ]
     },
     "metadata": {},
     "output_type": "display_data"
    },
    {
     "name": "stdout",
     "output_type": "stream",
     "text": [
      "| Parameter           |      Value |\n",
      "|---------------------|------------|\n",
      "| Train loss          |  0.0774396 |\n",
      "| Eval loss           |  1.26712   |\n",
      "| Eval accuracy       |  0.784264  |\n",
      "| Learning rate       |  5e-05     |\n",
      "| Weight decay        |  0.01      |\n",
      "| Num epochs          | 10         |\n",
      "| Batch size          | 16         |\n",
      "| Unfreeze from Layer |            |\n",
      "| Extra Info          |            |\n"
     ]
    },
    {
     "data": {
      "text/plain": [
       "{'Train loss': 0.07743963450193406,\n",
       " 'Eval loss': 1.2671220302581787,\n",
       " 'Eval accuracy': 0.7842639593908629,\n",
       " 'Learning rate': 5e-05,\n",
       " 'Weight decay': 0.01,\n",
       " 'Num epochs': 10.0,\n",
       " 'Batch size': 16,\n",
       " 'Unfreeze from Layer': None,\n",
       " 'Extra Info': None}"
      ]
     },
     "execution_count": 47,
     "metadata": {},
     "output_type": "execute_result"
    }
   ],
   "source": [
    "model_log_overview = params_log(trainer, train_output, training_args)\n",
    "\n",
    "model_log_overview"
   ]
  },
  {
   "cell_type": "code",
   "execution_count": 48,
   "id": "42d4650f-8865-4402-88c0-72511f96ccab",
   "metadata": {},
   "outputs": [],
   "source": [
    "trainer.save_model('./local_fine_tuned_model_full')"
   ]
  },
  {
   "cell_type": "code",
   "execution_count": 49,
   "id": "ae7c6d85-b57d-4eed-a32b-39ce56167e1b",
   "metadata": {},
   "outputs": [
    {
     "data": {
      "text/plain": [
       "{'Train loss': 0.07743963450193406,\n",
       " 'Eval loss': 1.2671220302581787,\n",
       " 'Eval accuracy': 0.7842639593908629,\n",
       " 'Learning rate': 5e-05,\n",
       " 'Weight decay': 0.01,\n",
       " 'Num epochs': 10.0,\n",
       " 'Batch size': 16,\n",
       " 'Unfreeze from Layer': None,\n",
       " 'Extra Info': None}"
      ]
     },
     "execution_count": 49,
     "metadata": {},
     "output_type": "execute_result"
    }
   ],
   "source": [
    "model_log_overview"
   ]
  },
  {
   "cell_type": "code",
   "execution_count": null,
   "id": "7bf5e45c-4f1a-43ad-9803-10c0cff4c170",
   "metadata": {},
   "outputs": [],
   "source": []
  }
 ],
 "metadata": {
  "kernelspec": {
   "display_name": "Python [conda env:base] *",
   "language": "python",
   "name": "conda-base-py"
  },
  "language_info": {
   "codemirror_mode": {
    "name": "ipython",
    "version": 3
   },
   "file_extension": ".py",
   "mimetype": "text/x-python",
   "name": "python",
   "nbconvert_exporter": "python",
   "pygments_lexer": "ipython3",
   "version": "3.12.7"
  }
 },
 "nbformat": 4,
 "nbformat_minor": 5
}
